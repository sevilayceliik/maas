{
 "cells": [
  {
   "cell_type": "code",
   "execution_count": 5,
   "id": "13793679-e91f-44e9-86f6-c0f0e91737b1",
   "metadata": {},
   "outputs": [
    {
     "name": "stdin",
     "output_type": "stream",
     "text": [
      "Lütfen maaşınızı girin:  45000\n"
     ]
    },
    {
     "name": "stdout",
     "output_type": "stream",
     "text": [
      "Yeni maaşınız: 40500.0\n"
     ]
    }
   ],
   "source": [
    "maas = float(input('Lütfen maaşınızı girin: '))\n",
    "\n",
    "if maas > 45000:\n",
    "    yeni_maas = maas * 0.75\n",
    "elif maas > 25000:\n",
    "    yeni_maas = maas * 0.90\n",
    "elif maas > 10000:\n",
    "    yeni_maas = maas * 0.95\n",
    "else:\n",
    "    yeni_maas = maas * 0.70\n",
    "\n",
    "print('Yeni maaşınız:', yeni_maas)\n"
   ]
  },
  {
   "cell_type": "code",
   "execution_count": 7,
   "id": "28fe9d64-6f0a-46f8-9f34-45e88cfac2ed",
   "metadata": {},
   "outputs": [
    {
     "name": "stdin",
     "output_type": "stream",
     "text": [
      "Kullanıcı adınızı oluşturun:  seviilay\n",
      "Şifrenizi oluşturun (en az 6 karakter):  z9\n"
     ]
    },
    {
     "name": "stdout",
     "output_type": "stream",
     "text": [
      "Şifreniz en az 6 haneli olmalıdır.\n"
     ]
    }
   ],
   "source": [
    "kullanici_adi = input(\"Kullanıcı adınızı oluşturun: \")\n",
    "sifre = input(\"Şifrenizi oluşturun (en az 6 karakter): \")\n",
    "\n",
    "if len(sifre) >= 6:\n",
    "    print(\"Hesabınız oluşturuldu.\")\n",
    "else:\n",
    "    print(\"Şifreniz en az 6 haneli olmalıdır.\")\n",
    "\n"
   ]
  },
  {
   "cell_type": "code",
   "execution_count": 9,
   "id": "1dc4562d-7235-4975-bac6-93e38e83abb5",
   "metadata": {},
   "outputs": [
    {
     "name": "stdin",
     "output_type": "stream",
     "text": [
      "Kullanıcı adınızı oluşturun:  sevii\n",
      "Şifrenizi oluşturun (5-10 karakter arasında olmalı):  assa\n"
     ]
    },
    {
     "name": "stdout",
     "output_type": "stream",
     "text": [
      "Lütfen girdiğiniz şifre 5 haneden az, 10 haneden fazla olmasın!\n"
     ]
    },
    {
     "name": "stdin",
     "output_type": "stream",
     "text": [
      "Şifrenizi oluşturun (5-10 karakter arasında olmalı):  sa\n"
     ]
    },
    {
     "name": "stdout",
     "output_type": "stream",
     "text": [
      "Lütfen girdiğiniz şifre 5 haneden az, 10 haneden fazla olmasın!\n"
     ]
    },
    {
     "name": "stdin",
     "output_type": "stream",
     "text": [
      "Şifrenizi oluşturun (5-10 karakter arasında olmalı):  sadas\n"
     ]
    },
    {
     "name": "stdout",
     "output_type": "stream",
     "text": [
      "Hesabınız oluşturuldu.\n"
     ]
    }
   ],
   "source": [
    "kullanici_adi = input(\"Kullanıcı adınızı oluşturun: \")\n",
    "\n",
    "while True:\n",
    "    sifre = input(\"Şifrenizi oluşturun (5-10 karakter arasında olmalı): \")\n",
    "    \n",
    "    if 5 <= len(sifre) <= 10:\n",
    "        print(\"Hesabınız oluşturuldu.\")\n",
    "        break\n",
    "    else:\n",
    "        print(\"Lütfen girdiğiniz şifre 5 haneden az, 10 haneden fazla olmasın!\")\n",
    "\n"
   ]
  },
  {
   "cell_type": "code",
   "execution_count": null,
   "id": "7ea0914c-b2c3-4ece-a905-1255edb4eb8e",
   "metadata": {},
   "outputs": [],
   "source": []
  }
 ],
 "metadata": {
  "kernelspec": {
   "display_name": "Python 3 (ipykernel)",
   "language": "python",
   "name": "python3"
  },
  "language_info": {
   "codemirror_mode": {
    "name": "ipython",
    "version": 3
   },
   "file_extension": ".py",
   "mimetype": "text/x-python",
   "name": "python",
   "nbconvert_exporter": "python",
   "pygments_lexer": "ipython3",
   "version": "3.12.4"
  }
 },
 "nbformat": 4,
 "nbformat_minor": 5
}
